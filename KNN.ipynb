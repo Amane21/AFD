{
  "nbformat": 4,
  "nbformat_minor": 0,
  "metadata": {
    "kernelspec": {
      "display_name": "Python 3",
      "language": "python",
      "name": "python3"
    },
    "language_info": {
      "codemirror_mode": {
        "name": "ipython",
        "version": 3
      },
      "file_extension": ".py",
      "mimetype": "text/x-python",
      "name": "python",
      "nbconvert_exporter": "python",
      "pygments_lexer": "ipython3",
      "version": "3.8.5"
    },
    "colab": {
      "name": "TP1-exo2-ASSANI.ipynb",
      "provenance": []
    }
  },
  "cells": [
    {
      "cell_type": "markdown",
      "metadata": {
        "id": "OeKS0ZUZ_TDl"
      },
      "source": [
        "# TP 1, exercice 2: étude du classifieur à plus proches voisins (kNN)\n",
        "\n",
        "Cet exercice est à réaliser avec l'environnement Jupyter d'Anaconda https://www.anaconda.com/ ou dans Google Colab.\n",
        "\n",
        "**Objectif:** Déterminer la valeur optimale du nombre de voisins *k* \n",
        "\n",
        "On reprend le code expliqué en cours. Votre objectif est d'estimer le taux d'erreur de classification sur l'ensemble de test en fonction de k.\n",
        "\n",
        "On tracera une courbe `taux_erreur = f(k)`.\n",
        "\n",
        "**Compléter le notebook à la fin (inutile de modifier les cellules du début)**"
      ]
    },
    {
      "cell_type": "markdown",
      "metadata": {
        "id": "I1c1zgF0_TDt"
      },
      "source": [
        "##### Etudiante : Imane ASSANI"
      ]
    },
    {
      "cell_type": "code",
      "metadata": {
        "id": "I5I0yY_C_TDu"
      },
      "source": [
        "# Initialisations\n",
        "%matplotlib inline\n",
        "\n",
        "import matplotlib.pyplot as plt\n",
        "import numpy as np\n",
        "import scipy\n",
        "from sklearn import datasets\n",
        "\n",
        "from sklearn.neighbors import KNeighborsClassifier"
      ],
      "execution_count": null,
      "outputs": []
    },
    {
      "cell_type": "code",
      "metadata": {
        "id": "7qUnIcOQ_TDv",
        "outputId": "04e569fe-8f9a-452a-eada-dff058bb8154"
      },
      "source": [
        "# Les données: chiffres\n",
        "from sklearn.datasets import load_digits\n",
        "digits = load_digits()\n",
        "X = digits.data\n",
        "Y = digits.target\n",
        "print('Données chargées, dimensions ', digits.data.shape)\n",
        "# affiche les classes et le nombre d'exemples dans chacune\n",
        "print('Classes: ', np.unique(Y, return_counts=True)) "
      ],
      "execution_count": null,
      "outputs": [
        {
          "output_type": "stream",
          "text": [
            "Données chargées, dimensions  (1797, 64)\n",
            "Classes:  (array([0, 1, 2, 3, 4, 5, 6, 7, 8, 9]), array([178, 182, 177, 183, 181, 182, 181, 179, 174, 180], dtype=int64))\n"
          ],
          "name": "stdout"
        }
      ]
    },
    {
      "cell_type": "code",
      "metadata": {
        "id": "AopOVzfs_TDw",
        "outputId": "7107ffba-f83f-45cf-fe51-f01230b9d51a"
      },
      "source": [
        "# Affichage de quelques exemples:\n",
        "plt.figure(figsize=(20,4))\n",
        "for index, (image, label) in enumerate(zip(digits.data[0:5], digits.target[0:5])):\n",
        "    plt.subplot(1, 5, index + 1)\n",
        "    plt.imshow(np.reshape(image, (8,8)), cmap=plt.cm.gray)\n",
        "    plt.title('Exemple %i\\n' % label, fontsize = 20)"
      ],
      "execution_count": null,
      "outputs": [
        {
          "output_type": "display_data",
          "data": {
            "image/png": "[encoded data removed]",
            "text/plain": [
              "<Figure size 1440x288 with 5 Axes>"
            ]
          },
          "metadata": {
            "tags": [],
            "needs_background": "light"
          }
        }
      ]
    },
    {
      "cell_type": "code",
      "metadata": {
        "id": "ILNqYWRb_TDx",
        "outputId": "f9c5fe92-2cde-407a-cf8b-ca28b15c15a6"
      },
      "source": [
        "# Séparation des données en ensembles d'apprentissage (X_train, Y_train) \n",
        "#  et de test (X_test, Y_test)\n",
        "\n",
        "test_size = 0.25 # proportion d'exemples utilisés pour le test\n",
        "i = int(X.shape[0] * (1-test_size))\n",
        "\n",
        "X_train = X[:i]\n",
        "Y_train = Y[:i]\n",
        "X_test = X[i:]\n",
        "Y_test = Y[i:]\n",
        "print( i, 'exemples en apprentissage et', len(Y_test), 'en test.')\n",
        "\n",
        "# Ici on prend juste le début, la fonction sklearn.model_selection.train_test_split\n",
        "# est plus intéressante (on la verra plus tard)\n"
      ],
      "execution_count": null,
      "outputs": [
        {
          "output_type": "stream",
          "text": [
            "1347 exemples en apprentissage et 450 en test.\n"
          ],
          "name": "stdout"
        }
      ]
    },
    {
      "cell_type": "code",
      "metadata": {
        "id": "IqsNxm84_TDx",
        "outputId": "9c62a1bc-b5d5-4531-f849-34d09ebf03f7"
      },
      "source": [
        "# Le modèle:\n",
        "K = 3\n",
        "\n",
        "model = KNeighborsClassifier(n_neighbors=K)\n",
        "\n",
        "# Apprentissage:\n",
        "model.fit(X_train, Y_train)"
      ],
      "execution_count": null,
      "outputs": [
        {
          "output_type": "execute_result",
          "data": {
            "text/plain": [
              "KNeighborsClassifier(n_neighbors=3)"
            ]
          },
          "metadata": {
            "tags": []
          },
          "execution_count": 6
        }
      ]
    },
    {
      "cell_type": "code",
      "metadata": {
        "id": "adLPQM9M_TDy",
        "outputId": "e21c5f95-162a-4aa6-aa71-d183313555be"
      },
      "source": [
        "# Test du modèle\n",
        "Y_train_pred = model.predict(X_train)\n",
        "Y_test_pred = model.predict(X_test)\n",
        "\n",
        "print('10 premiers exemples de test:')\n",
        "print('Classes vraies :', Y_test[:12])\n",
        "print('Classes prévues:', Y_test_pred[:12])\n",
        "\n",
        "# Calcul du taux d'erreur\n",
        "from sklearn import metrics\n",
        "print(\"Précision:\",metrics.accuracy_score(Y_test, Y_test_pred))"
      ],
      "execution_count": null,
      "outputs": [
        {
          "output_type": "stream",
          "text": [
            "10 premiers exemples de test:\n",
            "Classes vraies : [3 7 3 3 4 6 6 6 4 9 1 5]\n",
            "Classes prévues: [3 7 3 3 4 6 6 6 4 9 1 5]\n",
            "Précision: 0.9711111111111111\n"
          ],
          "name": "stdout"
        }
      ]
    },
    {
      "cell_type": "code",
      "metadata": {
        "id": "KBq2jrKC_TDz",
        "outputId": "90a4ea2e-c96d-4cc5-80bf-ab2d5deac43e"
      },
      "source": [
        "errors = np.where( Y_test != Y_test_pred )[0]\n",
        "print('Erreurs sur l\\'ensemble de test:', errors)\n",
        "nb_err = len(errors)\n",
        "accuracy = (len(Y_test) - nb_err)/len(Y_test)\n",
        "print('Nombre d\\'erreurs:', nb_err, 'Précision', 100*accuracy, '%')"
      ],
      "execution_count": null,
      "outputs": [
        {
          "output_type": "stream",
          "text": [
            "Erreurs sur l'ensemble de test: [ 14 206 235 258 259 264 281 311 313 315 380 418 443]\n",
            "Nombre d'erreurs: 13 Précision 97.11111111111111 %\n"
          ],
          "name": "stdout"
        }
      ]
    },
    {
      "cell_type": "code",
      "metadata": {
        "id": "or_RnjSA_TDz",
        "outputId": "0730c0c6-12b3-4e52-ccbd-bfe4269c8c4f"
      },
      "source": [
        "# Affiche les 5 premières erreurs:\n",
        "plt.figure(figsize=(20,4))\n",
        "i = 1\n",
        "for index in errors[:5]:\n",
        "    img = X_test[index]\n",
        "    label = Y_test[index]\n",
        "    plt.subplot(1, 5, i)\n",
        "    plt.imshow(np.reshape(img, (8,8)), cmap=plt.cm.gray)\n",
        "    plt.title('%d (=%d)\\n' % (label, Y_test_pred[index]), fontsize = 20)\n",
        "    i += 1"
      ],
      "execution_count": null,
      "outputs": [
        {
          "output_type": "display_data",
          "data": {
            "image/png": "[encoded data removed]",
            "text/plain": [
              "<Figure size 1440x288 with 5 Axes>"
            ]
          },
          "metadata": {
            "tags": [],
            "needs_background": "light"
          }
        }
      ]
    },
    {
      "cell_type": "code",
      "metadata": {
        "id": "0xZZ9zuX_TD0",
        "outputId": "84fd7973-1dd9-4316-c5c1-9c6ef1d05118"
      },
      "source": [
        "# Erreur en fonction de k\n",
        "\n",
        "error_k = []\n",
        "#On prend des valeurs de k entre 1 et 9\n",
        "for k in range(1,10):\n",
        "    model = KNeighborsClassifier(n_neighbors=k)\n",
        "\n",
        "    # Apprentissage:\n",
        "    model.fit(X_train, Y_train)\n",
        "    # Test du modèle\n",
        "    Y_train_pred = model.predict(X_train)\n",
        "    Y_test_pred = model.predict(X_test)\n",
        "    #Calcul d'erreurs\n",
        "    #On ajoute pour chaque k la moyenne des erreurs\n",
        "    error_k.append(np.mean( Y_test != Y_test_pred ) )\n",
        "    print(\"Pour k = {} , l'erreur est: {:.1%}\".format(k,np.mean( Y_test != Y_test_pred )))\n"
      ],
      "execution_count": null,
      "outputs": [
        {
          "output_type": "stream",
          "text": [
            "Pour k = 1 , l'erreur est: 3.8%\n",
            "Pour k = 2 , l'erreur est: 3.8%\n",
            "Pour k = 3 , l'erreur est: 2.9%\n",
            "Pour k = 4 , l'erreur est: 3.1%\n",
            "Pour k = 5 , l'erreur est: 3.6%\n",
            "Pour k = 6 , l'erreur est: 4.2%\n",
            "Pour k = 7 , l'erreur est: 4.4%\n",
            "Pour k = 8 , l'erreur est: 4.4%\n",
            "Pour k = 9 , l'erreur est: 4.4%\n"
          ],
          "name": "stdout"
        }
      ]
    },
    {
      "cell_type": "code",
      "metadata": {
        "id": "hPqumXXK_TD0",
        "outputId": "88f57cf4-8f5f-4d2f-feba-7b4e5e8c787d"
      },
      "source": [
        "# Graphique montrant l'erreur en fonction de k\n",
        "#Format des erreurs en pourcentage\n",
        "x_error_k = [i*100 for i in error_k]\n",
        "\n",
        "plt.plot(range(1,10),x_error_k,linestyle='dashed',marker=\"o\")\n",
        "plt.grid()\n",
        "\n",
        "plt.title('Erreur kNN en fonction de k')\n",
        "plt.xlabel('k')\n",
        "plt.ylabel('Erreur%')"
      ],
      "execution_count": null,
      "outputs": [
        {
          "output_type": "execute_result",
          "data": {
            "text/plain": [
              "Text(0, 0.5, 'Erreur%')"
            ]
          },
          "metadata": {
            "tags": []
          },
          "execution_count": 11
        },
        {
          "output_type": "display_data",
          "data": {
            "image/png": "[encoded data removed]",
            "text/plain": [
              "<Figure size 432x288 with 1 Axes>"
            ]
          },
          "metadata": {
            "tags": [],
            "needs_background": "light"
          }
        }
      ]
    },
    {
      "cell_type": "code",
      "metadata": {
        "id": "SdKe53sI_TD1"
      },
      "source": [
        ""
      ],
      "execution_count": null,
      "outputs": []
    }
  ]
}